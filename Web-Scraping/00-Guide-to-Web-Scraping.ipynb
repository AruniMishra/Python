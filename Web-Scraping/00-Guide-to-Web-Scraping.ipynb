{
 "metadata": {
  "language_info": {
   "codemirror_mode": {
    "name": "ipython",
    "version": 3
   },
   "file_extension": ".py",
   "mimetype": "text/x-python",
   "name": "python",
   "nbconvert_exporter": "python",
   "pygments_lexer": "ipython3",
   "version": "3.8.5-final"
  },
  "orig_nbformat": 2,
  "kernelspec": {
   "name": "python3",
   "display_name": "Python 3.8.5 64-bit (conda)",
   "metadata": {
    "interpreter": {
     "hash": "a7ab46ef840a5c282fb741022546ec20bf25b011a90def43435f3aef94a377aa"
    }
   }
  }
 },
 "nbformat": 4,
 "nbformat_minor": 2,
 "cells": [
  {
   "cell_type": "code",
   "execution_count": 5,
   "metadata": {},
   "outputs": [],
   "source": [
    "import requests"
   ]
  },
  {
   "cell_type": "code",
   "execution_count": 10,
   "metadata": {},
   "outputs": [],
   "source": [
    "res = requests.get(\"http://www.arunimishra.com\")"
   ]
  },
  {
   "cell_type": "code",
   "execution_count": 11,
   "metadata": {},
   "outputs": [
    {
     "output_type": "execute_result",
     "data": {
      "text/plain": [
       "requests.models.Response"
      ]
     },
     "metadata": {},
     "execution_count": 11
    }
   ],
   "source": [
    "type(res)"
   ]
  },
  {
   "cell_type": "code",
   "execution_count": 12,
   "metadata": {},
   "outputs": [
    {
     "output_type": "execute_result",
     "data": {
      "text/plain": [
       "'<html>\\n   <head>\\n      <title>Aruni Mishra - Polly Study Notes Generator</title>\\n      <link rel=\"stylesheet\" href=\"styles.css\">\\n   </head>\\n   <body>\\n      <h1>Hello !</h1>\\n      <div id=\"content\">\\n         Voice:\\n         <select id=\"voiceSelected\">\\n            <option value=\"Ivy\">Ivy [English - American]</option>\\n            <option value=\"Joanna\">Joanna [English - American]</option>\\n            <option value=\"Joey\">Joey [English - American]</option>\\n            <option value=\"Justin\">Justin [English - American]</option>\\n            <option value=\"Kendra\">Kendra [English - American]</option>\\n            <option value=\"Kimberly\">Kimberly [English - American]</option>\\n            <option value=\"Salli\">Salli [English - American]</option>\\n            <option value=\"Nicole\">Nicole [English - Australian]</option>\\n            <option value=\"Russell\">Russell [English - Australian]</option>\\n            <option value=\"Emma\">Emma [English - British]</option>\\n            <option value=\"Brian\">Brian [English - British]</option>\\n            <option value=\"Amy\">Amy [English - British]</option>\\n            <option value=\"Raveena\">Raveena [English - Indian]</option>\\n            <option value=\"Geraint\">Geraint [English - Welsh]</option>\\n            <option value=\"Ricardo\">Ricardo [Brazilian Portuguese]</option>\\n            <option value=\"VitÃ³ria\">VitÃ³ria [Brazilian Portuguese]</option>\\n            <option value=\"Lotte\">Lotte [Dutch]</option>\\n            <option value=\"Ruben\">Ruben [Dutch]</option>\\n            <option value=\"Mathieu\">Mathieu [French]</option>\\n            <option value=\"CÃ©line\">CÃ©line [French]</option>\\n            <option value=\"Chantal\">Chantal [Canadian French]</option>\\n            <option value=\"Marlene\">Marlene [German]</option>\\n            <option value=\"DÃ³ra\">DÃ³ra [Icelandic]</option>\\n            <option value=\"Karl\">Karl [Icelandic]</option>\\n            <option value=\"Carla\">Carla [Italian]</option>\\n            <option value=\"Giorgio\">Giorgio [Italian]</option>\\n            <option value=\"Mizuki\">Mizuki [Japanese]</option>\\n            <option value=\"Liv\">Liv [Norwegian]</option>\\n            <option value=\"Maja\">Maja [Polish]</option>\\n            <option value=\"Jan\">Jan [Polish]</option>\\n            <option value=\"Ewa\">Ewa [Polish]</option>\\n            <option value=\"Cristiano\">Cristiano [Portuquese]</option>\\n            <option value=\"InÃªs\">InÃªs [Portuquese]</option>\\n            <option value=\"Carmen\">Carmen [Romanian]</option>\\n            <option value=\"Maxim\">Maxim [Russian]</option>\\n            <option value=\"Tatyana\">Tatyana [Russian]</option>\\n            <option value=\"Enrique\">Enrique [Spanish]</option>\\n            <option value=\"PenÃ©lope\">PenÃ©lope [US Spanish]</option>\\n            <option value=\"Enrique\">Miguel [US Spanish]</option>\\n            <option value=\"Conchita\">Conchita [Castilian Spanish]</option>\\n            <option value=\"Astrid\">Astrid [Swedish]</option>\\n            <option value=\"Filiz\">Filiz [Turkish]</option>\\n            <option value=\"Gwyneth\">Gwyneth [Welsh]</option>\\n         </select>\\n         <input type=\"submit\" value=\"Say it!\" id=\"sayButton\" class=\"buttons\">\\n         <span id=\"postIDreturned\"></span>\\n         </br></br>\\n         <textarea id =\"postText\"></textarea>\\n         <span id=\"charCounter\">Characters: 0</span>\\n         </br></br></br></br>\\n         Provide post ID which you want to retrieve: <input type=\"text\" id=\"postId\"> <input type=\"submit\" class=\"buttons\" value=\"Search\" id=\"searchButton\">\\n         <br/>\\n      </div>\\n      <table id=\"posts\">\\n         <colgroup>\\n            <col style=\"width:10%\">\\n            <col style=\"width:7%\">\\n            <col style=\"width:45%\">\\n            <col style=\"width:8%\">\\n            <col style=\"width:30%\">\\n         </colgroup>\\n         <tbody>\\n            <tr>\\n               <th>Post ID</th>\\n               <th>Voice</th>\\n               <th>Post</th>\\n               <th>Status</th>\\n               <th>Player</th>\\n            </tr>\\n         </tbody>\\n      </table>\\n      <script src=\"scripts.js\"></script>\\n      <script type=\"text/javascript\" src=\"https://ajax.googleapis.com/ajax/libs/jquery/3.5.1/jquery.min.js\"></script>\\n   </body>\\n</html>'"
      ]
     },
     "metadata": {},
     "execution_count": 12
    }
   ],
   "source": [
    "res.text"
   ]
  },
  {
   "cell_type": "code",
   "execution_count": 13,
   "metadata": {},
   "outputs": [],
   "source": [
    "\n",
    "import bs4"
   ]
  },
  {
   "cell_type": "code",
   "execution_count": 14,
   "metadata": {},
   "outputs": [],
   "source": [
    "soup = bs4.BeautifulSoup(res.text,\"lxml\")"
   ]
  },
  {
   "cell_type": "code",
   "execution_count": 15,
   "metadata": {},
   "outputs": [
    {
     "output_type": "execute_result",
     "data": {
      "text/plain": [
       "<html>\n",
       "<head>\n",
       "<title>Aruni Mishra - Polly Study Notes Generator</title>\n",
       "<link href=\"styles.css\" rel=\"stylesheet\"/>\n",
       "</head>\n",
       "<body>\n",
       "<h1>Hello !</h1>\n",
       "<div id=\"content\">\n",
       "         Voice:\n",
       "         <select id=\"voiceSelected\">\n",
       "<option value=\"Ivy\">Ivy [English - American]</option>\n",
       "<option value=\"Joanna\">Joanna [English - American]</option>\n",
       "<option value=\"Joey\">Joey [English - American]</option>\n",
       "<option value=\"Justin\">Justin [English - American]</option>\n",
       "<option value=\"Kendra\">Kendra [English - American]</option>\n",
       "<option value=\"Kimberly\">Kimberly [English - American]</option>\n",
       "<option value=\"Salli\">Salli [English - American]</option>\n",
       "<option value=\"Nicole\">Nicole [English - Australian]</option>\n",
       "<option value=\"Russell\">Russell [English - Australian]</option>\n",
       "<option value=\"Emma\">Emma [English - British]</option>\n",
       "<option value=\"Brian\">Brian [English - British]</option>\n",
       "<option value=\"Amy\">Amy [English - British]</option>\n",
       "<option value=\"Raveena\">Raveena [English - Indian]</option>\n",
       "<option value=\"Geraint\">Geraint [English - Welsh]</option>\n",
       "<option value=\"Ricardo\">Ricardo [Brazilian Portuguese]</option>\n",
       "<option value=\"VitÃ³ria\">VitÃ³ria [Brazilian Portuguese]</option>\n",
       "<option value=\"Lotte\">Lotte [Dutch]</option>\n",
       "<option value=\"Ruben\">Ruben [Dutch]</option>\n",
       "<option value=\"Mathieu\">Mathieu [French]</option>\n",
       "<option value=\"CÃ©line\">CÃ©line [French]</option>\n",
       "<option value=\"Chantal\">Chantal [Canadian French]</option>\n",
       "<option value=\"Marlene\">Marlene [German]</option>\n",
       "<option value=\"DÃ³ra\">DÃ³ra [Icelandic]</option>\n",
       "<option value=\"Karl\">Karl [Icelandic]</option>\n",
       "<option value=\"Carla\">Carla [Italian]</option>\n",
       "<option value=\"Giorgio\">Giorgio [Italian]</option>\n",
       "<option value=\"Mizuki\">Mizuki [Japanese]</option>\n",
       "<option value=\"Liv\">Liv [Norwegian]</option>\n",
       "<option value=\"Maja\">Maja [Polish]</option>\n",
       "<option value=\"Jan\">Jan [Polish]</option>\n",
       "<option value=\"Ewa\">Ewa [Polish]</option>\n",
       "<option value=\"Cristiano\">Cristiano [Portuquese]</option>\n",
       "<option value=\"InÃªs\">InÃªs [Portuquese]</option>\n",
       "<option value=\"Carmen\">Carmen [Romanian]</option>\n",
       "<option value=\"Maxim\">Maxim [Russian]</option>\n",
       "<option value=\"Tatyana\">Tatyana [Russian]</option>\n",
       "<option value=\"Enrique\">Enrique [Spanish]</option>\n",
       "<option value=\"PenÃ©lope\">PenÃ©lope [US Spanish]</option>\n",
       "<option value=\"Enrique\">Miguel [US Spanish]</option>\n",
       "<option value=\"Conchita\">Conchita [Castilian Spanish]</option>\n",
       "<option value=\"Astrid\">Astrid [Swedish]</option>\n",
       "<option value=\"Filiz\">Filiz [Turkish]</option>\n",
       "<option value=\"Gwyneth\">Gwyneth [Welsh]</option>\n",
       "</select>\n",
       "<input class=\"buttons\" id=\"sayButton\" type=\"submit\" value=\"Say it!\"/>\n",
       "<span id=\"postIDreturned\"></span>\n",
       "<textarea id=\"postText\"></textarea>\n",
       "<span id=\"charCounter\">Characters: 0</span>\n",
       "         \n",
       "         Provide post ID which you want to retrieve: <input id=\"postId\" type=\"text\"/> <input class=\"buttons\" id=\"searchButton\" type=\"submit\" value=\"Search\"/>\n",
       "<br/>\n",
       "</div>\n",
       "<table id=\"posts\">\n",
       "<colgroup>\n",
       "<col style=\"width:10%\"/>\n",
       "<col style=\"width:7%\"/>\n",
       "<col style=\"width:45%\"/>\n",
       "<col style=\"width:8%\"/>\n",
       "<col style=\"width:30%\"/>\n",
       "</colgroup>\n",
       "<tbody>\n",
       "<tr>\n",
       "<th>Post ID</th>\n",
       "<th>Voice</th>\n",
       "<th>Post</th>\n",
       "<th>Status</th>\n",
       "<th>Player</th>\n",
       "</tr>\n",
       "</tbody>\n",
       "</table>\n",
       "<script src=\"scripts.js\"></script>\n",
       "<script src=\"https://ajax.googleapis.com/ajax/libs/jquery/3.5.1/jquery.min.js\" type=\"text/javascript\"></script>\n",
       "</body>\n",
       "</html>"
      ]
     },
     "metadata": {},
     "execution_count": 15
    }
   ],
   "source": [
    "soup"
   ]
  },
  {
   "cell_type": "code",
   "execution_count": 16,
   "metadata": {},
   "outputs": [
    {
     "output_type": "execute_result",
     "data": {
      "text/plain": [
       "[<title>Aruni Mishra - Polly Study Notes Generator</title>]"
      ]
     },
     "metadata": {},
     "execution_count": 16
    }
   ],
   "source": [
    "soup.select('title')"
   ]
  },
  {
   "cell_type": "code",
   "execution_count": 18,
   "metadata": {},
   "outputs": [
    {
     "output_type": "execute_result",
     "data": {
      "text/plain": [
       "'Aruni Mishra - Polly Study Notes Generator'"
      ]
     },
     "metadata": {},
     "execution_count": 18
    }
   ],
   "source": [
    "soup.select('title')[0].getText()"
   ]
  },
  {
   "cell_type": "code",
   "execution_count": 20,
   "metadata": {},
   "outputs": [
    {
     "output_type": "execute_result",
     "data": {
      "text/plain": [
       "[<input class=\"buttons\" id=\"sayButton\" type=\"submit\" value=\"Say it!\"/>,\n",
       " <input class=\"buttons\" id=\"searchButton\" type=\"submit\" value=\"Search\"/>]"
      ]
     },
     "metadata": {},
     "execution_count": 20
    }
   ],
   "source": [
    "soup.select(\".buttons\")"
   ]
  },
  {
   "cell_type": "code",
   "execution_count": 24,
   "metadata": {},
   "outputs": [
    {
     "output_type": "stream",
     "name": "stdout",
     "text": [
      "\n\n"
     ]
    }
   ],
   "source": [
    "for item in soup.select(\".buttons\"):\n",
    "    print(item.text)"
   ]
  },
  {
   "cell_type": "code",
   "execution_count": 26,
   "metadata": {},
   "outputs": [],
   "source": [
    "base_url = 'https://www.flipkart.com/mobile-accessories/power-banks/pr?sid=tyy%2C4mr%2Cfu6&otracker=categorytree&otracker=nmenu_sub_Electronics_0_Power+Banks&fm=neo%2Fmerchandising&iid=M_755141b5-42d4-4124-94a2-bfba4c61d560_1_372UD5BXDFYS_MC.SUDNEM7MT757&otracker=hp_rich_navigation_4_1.navigationCard.RICH_NAVIGATION_Electronics%7EPowerbank_SUDNEM7MT757&cid=SUDNEM7MT757&page='"
   ]
  },
  {
   "cell_type": "code",
   "execution_count": 43,
   "metadata": {},
   "outputs": [
    {
     "output_type": "execute_result",
     "data": {
      "text/plain": [
       "['Callmate 20000 mAh Power Bank (Quick Charge 3.0)',\n",
       " 'Smartplay 10000 mAh Wireless Power Bank (Quick Charge 2.0, 15 W)',\n",
       " 'Mi 3i 20000 mAh Power Bank (Fast Charging, 18W)',\n",
       " 'Mi 3i 10000 mAh Power Bank (Fast Charging, 18W)',\n",
       " 'Mi 3i 10000 mAh Power Bank (Fast Charging, 18W)',\n",
       " 'Ambrane 10000 mAh Power Bank (Fast Charging, 12 W)',\n",
       " 'Ambrane 10000 mAh Power Bank (Fast Charging, 12 W)',\n",
       " 'realme 20000 mAh Power Bank (Quick Charge 2.0, Power Delivery 2.0, 18 W)',\n",
       " 'realme 20000 mAh Power Bank (Quick Charge 2.0, Power Delivery 2.0, 18 W)',\n",
       " 'OnePlus 10000 mAh Power Bank (Fast Charging, 18 W)',\n",
       " 'realme 10000 mAh Power Bank (Quick Charge 2.0, Quick Charge 3.0)',\n",
       " 'realme 10000 mAh Power Bank (Quick Charge 2.0, Quick Charge 3.0)',\n",
       " 'Redmi 20000 mAh Power Bank (Fast Charging, 18 W)',\n",
       " 'WINGFI 30000 mAh Power Bank (Fast Charging, 15 W)',\n",
       " 'Redmi 20000 mAh Power Bank (Fast Charging, 18 W)',\n",
       " 'Redmi 10000 mAh Power Bank (Fast Charging, 10 W)',\n",
       " 'Redmi 10000 mAh Power Bank (Fast Charging, 10 W)',\n",
       " 'Syska 10000 mAh Power Bank (Fast Charging, 12 W)',\n",
       " 'Syska 20000 mAh Power Bank (Fast Charging, 18 W)',\n",
       " 'Smartplay 10000 mAh Wireless Power Bank (Quick Charge 2.0, 15 W)',\n",
       " 'Syska 20000 mAh Power Bank (Fast Charging, 18 W)',\n",
       " 'Syska 20000 mAh Power Bank (Fast Charging, 18 W)',\n",
       " 'Flipkart SmartBuy 20000 mAh Power Bank (Fast Charging, 12 W)',\n",
       " 'WK Life 10000 mAh Power Bank (Fast Charging, 37 W)',\n",
       " 'Flipkart SmartBuy 10000 mAh Power Bank (Fast Charging, 12 W)',\n",
       " 'Flipkart SmartBuy 10000 mAh Power Bank (Fast Charging, 12 W)',\n",
       " 'Flipkart SmartBuy 10000 mAh Power Bank (Fast Charging, 12 W)',\n",
       " 'Ambrane 20000 mAh Power Bank (Fast Charging, 10 W)',\n",
       " 'Ambrane 20000 mAh Power Bank (Fast Charging, 10 W)',\n",
       " 'Smartplay 5000 mAh Power Bank (Fast Charging, 10 W)',\n",
       " 'Philips 20000 mAh Power Bank (Fast Charging, 10 W)',\n",
       " 'Mi 2i 10000 mAh Power Bank (Fast Charging, 18W)',\n",
       " 'Mi 2i 10000 mAh Power Bank (Fast Charging, 18W)',\n",
       " 'Power Theatre 10000 mAh Power Bank',\n",
       " 'Ambrane 20000 mAh Power Bank (Fast Charging, 10 W)',\n",
       " 'Philips 20000 mAh Power Bank (Fast Charging)',\n",
       " 'Flipkart SmartBuy 5000 mAh Power Bank (Fast Charging, 12 W)',\n",
       " 'Pomifi 32000 mAh Power Bank',\n",
       " 'Ambrane 27000 mAh Power Bank (Fast Charging, 18 W)',\n",
       " 'Power Up 10050 mAh Power Bank',\n",
       " 'Flipkart SmartBuy 20000 mAh Power Bank (Fast Charging, 12 W)',\n",
       " 'Pomifi 32000 mAh Power Bank',\n",
       " 'OnePlus 10000 mAh Power Bank (Fast Charging, 18 W)',\n",
       " 'Redmi 20000 mAh Power Bank (Fast Charging, 18 W)',\n",
       " 'Mi 3i 20000 mAh Power Bank (Fast Charging, 18W)']"
      ]
     },
     "metadata": {},
     "execution_count": 43
    }
   ],
   "source": [
    "\n",
    "all_items = []\n",
    "\n",
    "for n in range(1,2):\n",
    "\n",
    "    scrape_url = base_url.format(n)\n",
    "    res = requests.get(scrape_url)\n",
    "    \n",
    "    soup = bs4.BeautifulSoup(res.text,\"lxml\")\n",
    "    items = soup.select(\".CXW8mj\")\n",
    "    \n",
    "    for item in items:\n",
    "        all_items.append(item.select('img')[0]['alt'])\n",
    "\n",
    "two_star_titles"
   ]
  },
  {
   "cell_type": "code",
   "execution_count": null,
   "metadata": {},
   "outputs": [],
   "source": []
  }
 ]
}