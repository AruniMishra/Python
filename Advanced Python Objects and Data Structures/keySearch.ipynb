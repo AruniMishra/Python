{
 "cells": [
  {
   "cell_type": "code",
   "execution_count": 37,
   "source": [
    "h = {'ResponseMetadata': {'RequestId': '88f5d248-f8e5-4e68-88a9-55b074943b8c', 'HTTPStatusCode1': 200, 'HTTPHeaders': {'date': 'Thu, 26 Aug 2021 15:38:25 GMT', 'content-type': 'application/json', 'content-length': '391', 'connection': 'keep-alive', 'x-amzn-requestid': '88f5d248-f8e5-4e68-88a9-55b074943b8c'}, 'RetryAttempts': 0}, 'AccountLimit': {'TotalCodeSize': 80530636800, 'CodeSizeUnzipped': 262144000, 'CodeSizeZipped': 52428800, 'ConcurrentExecutions': 1000, 'UnreservedConcurrentExecutions': 1000}, 'AccountUsage': {'TotalCodeSize': 5443, 'FunctionCount': 5}}"
   ],
   "outputs": [],
   "metadata": {}
  },
  {
   "cell_type": "code",
   "execution_count": 38,
   "source": [
    "h.keys()"
   ],
   "outputs": [
    {
     "output_type": "execute_result",
     "data": {
      "text/plain": [
       "dict_keys(['ResponseMetadata', 'AccountLimit', 'AccountUsage'])"
      ]
     },
     "metadata": {},
     "execution_count": 38
    }
   ],
   "metadata": {}
  },
  {
   "cell_type": "code",
   "execution_count": 39,
   "source": [
    "'ResponseMetadata' in h and 'HTTPStatusCode1' in h['ResponseMetadata']"
   ],
   "outputs": [
    {
     "output_type": "execute_result",
     "data": {
      "text/plain": [
       "True"
      ]
     },
     "metadata": {},
     "execution_count": 39
    }
   ],
   "metadata": {}
  }
 ],
 "metadata": {
  "orig_nbformat": 4,
  "language_info": {
   "name": "python",
   "version": "3.9.6",
   "mimetype": "text/x-python",
   "codemirror_mode": {
    "name": "ipython",
    "version": 3
   },
   "pygments_lexer": "ipython3",
   "nbconvert_exporter": "python",
   "file_extension": ".py"
  },
  "kernelspec": {
   "name": "python3",
   "display_name": "Python 3.9.6 64-bit"
  },
  "interpreter": {
   "hash": "0b4f3e21f13eeea4ad8589f35938519fd3e881919343db179f5893f9f6e413c8"
  }
 },
 "nbformat": 4,
 "nbformat_minor": 2
}