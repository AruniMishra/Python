{
 "cells": [
  {
   "cell_type": "code",
   "execution_count": 5,
   "metadata": {},
   "outputs": [
    {
     "name": "stdout",
     "output_type": "stream",
     "text": [
      "2.0\n",
      "a is 2.0\n",
      "in finally\n"
     ]
    }
   ],
   "source": [
    "try:\n",
    "    a = 2/1\n",
    "    print(a)\n",
    "    mylist=[1]\n",
    "    mylist.pop()\n",
    "\n",
    "except ZeroDivisionError:\n",
    "    print(\"can not divide by 0\")\n",
    "\n",
    "except BaseException as err:\n",
    "    print(f\"Unexpected {err=}, {type(err)=}\")\n",
    "    print(\"all other exception\")\n",
    "else:\n",
    "    print(f\"a is {a}\")\n",
    "finally:\n",
    "    print(\"in finally\")\n"
   ]
  },
  {
   "cell_type": "code",
   "execution_count": null,
   "metadata": {},
   "outputs": [],
   "source": []
  }
 ],
 "metadata": {
  "interpreter": {
   "hash": "79447f6918f3aafb1c4f2f0b3880e95890f726397253c3960ec5b19736d3a84d"
  },
  "kernelspec": {
   "display_name": "Python 3.9.7 64-bit",
   "language": "python",
   "name": "python3"
  },
  "language_info": {
   "codemirror_mode": {
    "name": "ipython",
    "version": 3
   },
   "file_extension": ".py",
   "mimetype": "text/x-python",
   "name": "python",
   "nbconvert_exporter": "python",
   "pygments_lexer": "ipython3",
   "version": "3.9.7"
  }
 },
 "nbformat": 4,
 "nbformat_minor": 4
}
