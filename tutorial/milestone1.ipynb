{
 "cells": [
  {
   "cell_type": "code",
   "execution_count": 10,
   "metadata": {},
   "outputs": [
    {
     "name": "stdout",
     "output_type": "stream",
     "text": [
      "enter a value 1\n"
     ]
    }
   ],
   "source": [
    "value=input(\"enter a value \")"
   ]
  },
  {
   "cell_type": "code",
   "execution_count": 11,
   "metadata": {},
   "outputs": [
    {
     "data": {
      "text/plain": [
       "str"
      ]
     },
     "execution_count": 11,
     "metadata": {},
     "output_type": "execute_result"
    }
   ],
   "source": [
    "type(value)"
   ]
  },
  {
   "cell_type": "code",
   "execution_count": 12,
   "metadata": {},
   "outputs": [
    {
     "name": "stdout",
     "output_type": "stream",
     "text": [
      "[' ', ' ', ' ']\n",
      "[' ', ' ', ' ']\n",
      "[' ', ' ', ' ']\n"
     ]
    }
   ],
   "source": [
    "row1 = [' ', ' ', ' ']\n",
    "row2 = [' ', ' ', ' ']\n",
    "row3 = [' ', ' ', ' ']\n",
    "\n",
    "def display(row1, row2, row3):\n",
    "    print(row1)\n",
    "    print(row3)\n",
    "    print(row3)\n",
    "\n",
    "display(row1, row2, row3)"
   ]
  },
  {
   "cell_type": "code",
   "execution_count": 12,
   "metadata": {},
   "outputs": [
    {
     "name": "stdout",
     "output_type": "stream",
     "text": [
      "enter the value:1sd\n",
      "not an int\n",
      "enter the value:dsf\n",
      "not an int\n",
      "enter the value:12\n",
      "this is integer\n"
     ]
    }
   ],
   "source": [
    "def user_choice():\n",
    "    \n",
    "    \n",
    "    isdigit = \"false\"\n",
    "    \n",
    "    while isdigit == \"false\":\n",
    "        choice= input(\"enter the value:\")\n",
    "        if(choice.isdigit()):\n",
    "            isdigit = \"true\"\n",
    "            print(\"this is integer\")\n",
    "            break\n",
    "        else:\n",
    "            print(\"not an int\")\n",
    "            continue\n",
    "        \n",
    "user_choice()"
   ]
  },
  {
   "cell_type": "code",
   "execution_count": 6,
   "metadata": {
    "scrolled": true
   },
   "outputs": [
    {
     "name": "stdout",
     "output_type": "stream",
     "text": [
      "enter the value (0-10):asd\n",
      "enter the value (0-10):asd\n",
      "enter the value (0-10):asd\n",
      "enter the value (0-10):223\n",
      "enter the value (0-10):12\n",
      "enter the value (0-10):11\n",
      "enter the value (0-10):1\n"
     ]
    },
    {
     "data": {
      "text/plain": [
       "1"
      ]
     },
     "execution_count": 6,
     "metadata": {},
     "output_type": "execute_result"
    }
   ],
   "source": [
    "def user_choice():\n",
    "    \n",
    "    choice = \"false\"\n",
    "    acceptable_range= range(0,10)\n",
    "    within_range= False\n",
    "    \n",
    "    while (choice.isdigit() == False or within_range == False):\n",
    "        choice= input(\"enter the value (0-10):\")\n",
    "        \n",
    "        if(choice.isdigit()):\n",
    "            if(int(choice) in acceptable_range):\n",
    "                within_range= True\n",
    "\n",
    "    return int(choice)\n",
    "        \n",
    "user_choice()"
   ]
  },
  {
   "cell_type": "code",
   "execution_count": null,
   "metadata": {},
   "outputs": [],
   "source": []
  },
  {
   "cell_type": "code",
   "execution_count": null,
   "metadata": {},
   "outputs": [],
   "source": []
  },
  {
   "cell_type": "code",
   "execution_count": null,
   "metadata": {},
   "outputs": [],
   "source": []
  },
  {
   "cell_type": "code",
   "execution_count": null,
   "metadata": {},
   "outputs": [],
   "source": []
  },
  {
   "cell_type": "code",
   "execution_count": null,
   "metadata": {},
   "outputs": [],
   "source": []
  },
  {
   "cell_type": "code",
   "execution_count": null,
   "metadata": {},
   "outputs": [],
   "source": []
  },
  {
   "cell_type": "code",
   "execution_count": 8,
   "metadata": {},
   "outputs": [
    {
     "name": "stdout",
     "output_type": "stream",
     "text": [
      "[0, 1, 2]\n"
     ]
    }
   ],
   "source": [
    "def display_game(game_list):\n",
    "    print(game_list)\n",
    "    \n",
    "game_list=[0,1,2]\n",
    "\n",
    "display_game(game_list)"
   ]
  },
  {
   "cell_type": "code",
   "execution_count": 5,
   "metadata": {},
   "outputs": [
    {
     "name": "stdout",
     "output_type": "stream",
     "text": [
      "Pick a position (0,1,2): adw\n",
      "Pick a valid choice\n",
      "Pick a position (0,1,2): 1\n"
     ]
    },
    {
     "data": {
      "text/plain": [
       "1"
      ]
     },
     "execution_count": 5,
     "metadata": {},
     "output_type": "execute_result"
    }
   ],
   "source": [
    "def position_choice():\n",
    "    choice ='WRONG'\n",
    "    \n",
    "    while choice not in ['0','1','2']:\n",
    "        \n",
    "        choice= input(\"Pick a position (0,1,2): \")\n",
    "        \n",
    "        if choice not in ['0','1','2']:\n",
    "            print(\"Pick a valid choice\")\n",
    "            \n",
    "    return int(choice)\n",
    "            \n",
    "position_choice()\n",
    "        "
   ]
  },
  {
   "cell_type": "code",
   "execution_count": 10,
   "metadata": {},
   "outputs": [
    {
     "name": "stdout",
     "output_type": "stream",
     "text": [
      "Enter the positionwd\n"
     ]
    },
    {
     "data": {
      "text/plain": [
       "[0, 1, 'wd']"
      ]
     },
     "execution_count": 10,
     "metadata": {},
     "output_type": "execute_result"
    }
   ],
   "source": [
    "def replacement_choice(game_list, position):\n",
    "    user_placement=input(\"Enter the position\")\n",
    "    \n",
    "    game_list[position]= user_placement\n",
    "    \n",
    "    return game_list\n",
    "\n",
    "replacement_choice(game_list, 2)"
   ]
  },
  {
   "cell_type": "code",
   "execution_count": null,
   "metadata": {},
   "outputs": [],
   "source": []
  },
  {
   "cell_type": "code",
   "execution_count": 12,
   "metadata": {},
   "outputs": [
    {
     "name": "stdout",
     "output_type": "stream",
     "text": [
      "Keep playing (Y or N)?: Y\n"
     ]
    },
    {
     "data": {
      "text/plain": [
       "True"
      ]
     },
     "execution_count": 12,
     "metadata": {},
     "output_type": "execute_result"
    }
   ],
   "source": [
    "def gameon_choice():\n",
    "    choice ='WRONG'\n",
    "    \n",
    "    while choice not in ['Y','N']:\n",
    "        \n",
    "        choice= input(\"Keep playing (Y or N)?: \")\n",
    "        \n",
    "        if choice not in ['Y','N']:\n",
    "            print(\"Pick a valid choice\")\n",
    "            \n",
    "    return choice in ['Y','N']\n",
    "            \n",
    "gameon_choice()"
   ]
  },
  {
   "cell_type": "code",
   "execution_count": null,
   "metadata": {},
   "outputs": [],
   "source": []
  }
 ],
 "metadata": {
  "kernelspec": {
   "display_name": "Python 3",
   "language": "python",
   "name": "python3"
  },
  "language_info": {
   "codemirror_mode": {
    "name": "ipython",
    "version": 3
   },
   "file_extension": ".py",
   "mimetype": "text/x-python",
   "name": "python",
   "nbconvert_exporter": "python",
   "pygments_lexer": "ipython3",
   "version": "3.8.5"
  }
 },
 "nbformat": 4,
 "nbformat_minor": 4
}
