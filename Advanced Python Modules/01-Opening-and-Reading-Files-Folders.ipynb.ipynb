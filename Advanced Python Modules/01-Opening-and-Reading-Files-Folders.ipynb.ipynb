{
 "metadata": {
  "language_info": {
   "codemirror_mode": {
    "name": "ipython",
    "version": 3
   },
   "file_extension": ".py",
   "mimetype": "text/x-python",
   "name": "python",
   "nbconvert_exporter": "python",
   "pygments_lexer": "ipython3",
   "version": "3.8.5-final"
  },
  "orig_nbformat": 2,
  "kernelspec": {
   "name": "python3",
   "display_name": "Python 3",
   "language": "python"
  }
 },
 "nbformat": 4,
 "nbformat_minor": 2,
 "cells": [
  {
   "cell_type": "code",
   "execution_count": 1,
   "metadata": {},
   "outputs": [
    {
     "output_type": "execute_result",
     "data": {
      "text/plain": [
       "'c:\\\\Users\\\\Aruni Mishra\\\\python\\\\github\\\\Python\\\\Advanced Python Modules'"
      ]
     },
     "metadata": {},
     "execution_count": 1
    }
   ],
   "source": [
    "pwd"
   ]
  },
  {
   "cell_type": "code",
   "execution_count": 1,
   "metadata": {},
   "outputs": [],
   "source": [
    "import os"
   ]
  },
  {
   "cell_type": "code",
   "execution_count": 3,
   "metadata": {},
   "outputs": [
    {
     "output_type": "execute_result",
     "data": {
      "text/plain": [
       "'c:\\\\Users\\\\Aruni Mishra\\\\python\\\\github\\\\Python\\\\Advanced Python Modules'"
      ]
     },
     "metadata": {},
     "execution_count": 3
    }
   ],
   "source": [
    "os.getcwd()"
   ]
  },
  {
   "cell_type": "code",
   "execution_count": 1,
   "metadata": {},
   "outputs": [
    {
     "output_type": "execute_result",
     "data": {
      "text/plain": [
       "['All Users',\n",
       " 'Aruni Mishra',\n",
       " 'Default',\n",
       " 'Default User',\n",
       " 'desktop.ini',\n",
       " 'Public']"
      ]
     },
     "metadata": {},
     "execution_count": 1
    }
   ],
   "source": [
    "os.listdir('c:\\\\Users')"
   ]
  },
  {
   "cell_type": "code",
   "execution_count": 2,
   "metadata": {},
   "outputs": [],
   "source": [
    "import shutil"
   ]
  },
  {
   "cell_type": "code",
   "execution_count": 4,
   "metadata": {},
   "outputs": [
    {
     "output_type": "execute_result",
     "data": {
      "text/plain": [
       "usage(total=976152805376, used=114034876416, free=862117928960)"
      ]
     },
     "metadata": {},
     "execution_count": 4
    }
   ],
   "source": [
    "shutil.disk_usage('c:\\\\Users')"
   ]
  },
  {
   "cell_type": "code",
   "execution_count": null,
   "metadata": {},
   "outputs": [],
   "source": []
  },
  {
   "cell_type": "code",
   "execution_count": 6,
   "metadata": {},
   "outputs": [
    {
     "output_type": "execute_result",
     "data": {
      "text/plain": [
       "'c:\\\\Users\\\\Aruni Mishra\\\\python\\\\github\\\\Python\\\\Advanced Python Modules'"
      ]
     },
     "metadata": {},
     "execution_count": 6
    }
   ],
   "source": [
    "os.getcwd()"
   ]
  },
  {
   "cell_type": "code",
   "execution_count": 25,
   "metadata": {},
   "outputs": [
    {
     "output_type": "stream",
     "name": "stdout",
     "text": [
      "||--------------------------------------------------------------------------------------||\n\nfolder: C:\\Users\\Aruni Mishra\\python\\github\\Python\\Advanced Python Modules\n\n\nsub folder: subfolder\n\n\nfile: module.ipynb\nfile: Opening-and-Reading-Files-Folders.ipynb\n||--------------------------------------------------------------------------------------||\n\nfolder: C:\\Users\\Aruni Mishra\\python\\github\\Python\\Advanced Python Modules\\subfolder\n\n\nfile: fileInSubfolder\n"
     ]
    }
   ],
   "source": [
    "for folder, sub_folders, files in os.walk('C:\\\\Users\\\\Aruni Mishra\\\\python\\\\github\\\\Python\\\\Advanced Python Modules'):\n",
    "    print(\"||--------------------------------------------------------------------------------------||\\n\")\n",
    "    print(f\"folder: {folder}\")\n",
    "    print(\"\\n\")\n",
    "\n",
    "    for subfolder in sub_folders:\n",
    "        print(f\"sub folder: {subfolder}\")\n",
    "        print(\"\\n\")\n",
    "\n",
    "    for file in files:\n",
    "        print(f\"file: {file}\")"
   ]
  },
  {
   "cell_type": "code",
   "execution_count": null,
   "metadata": {},
   "outputs": [],
   "source": []
  },
  {
   "cell_type": "code",
   "execution_count": null,
   "metadata": {},
   "outputs": [],
   "source": []
  },
  {
   "cell_type": "code",
   "execution_count": null,
   "metadata": {},
   "outputs": [],
   "source": []
  },
  {
   "cell_type": "code",
   "execution_count": null,
   "metadata": {},
   "outputs": [],
   "source": []
  },
  {
   "cell_type": "code",
   "execution_count": null,
   "metadata": {},
   "outputs": [],
   "source": []
  }
 ]
}