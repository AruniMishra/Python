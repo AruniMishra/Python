{
 "metadata": {
  "language_info": {
   "codemirror_mode": {
    "name": "ipython",
    "version": 3
   },
   "file_extension": ".py",
   "mimetype": "text/x-python",
   "name": "python",
   "nbconvert_exporter": "python",
   "pygments_lexer": "ipython3",
   "version": "3.8.5-final"
  },
  "orig_nbformat": 2,
  "kernelspec": {
   "name": "python3",
   "display_name": "Python 3.8.5 64-bit ('setups': virtualenv)",
   "metadata": {
    "interpreter": {
     "hash": "a7ab46ef840a5c282fb741022546ec20bf25b011a90def43435f3aef94a377aa"
    }
   }
  }
 },
 "nbformat": 4,
 "nbformat_minor": 2,
 "cells": [
  {
   "cell_type": "code",
   "execution_count": 1,
   "metadata": {},
   "outputs": [],
   "source": [
    "import shutil"
   ]
  },
  {
   "cell_type": "code",
   "execution_count": 5,
   "metadata": {},
   "outputs": [],
   "source": [
    "shutil.unpack_archive('C://Users//Aruni Mishra//python//github//Python//Advanced Python Modules//subfolder//unzip_me_for_instructions.zip', 'C://Users//Aruni Mishra//python//github//Python//Advanced Python Modules//subfolder', 'zip')"
   ]
  },
  {
   "cell_type": "code",
   "execution_count": 7,
   "metadata": {},
   "outputs": [
    {
     "output_type": "stream",
     "name": "stdout",
     "text": [
      "Good work on unzipping the file!\nYou should now see 5 folders, each with a lot of random .txt files.\nWithin one of these text files is a telephone number formated ###-###-#### \nUse the Python os module and regular expressions to iterate through each file, open it, and search for a telephone number.\nGood luck!\n"
     ]
    }
   ],
   "source": [
    "with open('subfolder/extracted_content/Instructions.txt') as f:\n",
    "    content = f.read()\n",
    "    print(content)"
   ]
  },
  {
   "cell_type": "code",
   "execution_count": 8,
   "metadata": {},
   "outputs": [],
   "source": [
    "import re"
   ]
  },
  {
   "cell_type": "code",
   "execution_count": 9,
   "metadata": {},
   "outputs": [],
   "source": [
    "pattern = r'\\d{3}-\\d{3}-\\d{4}'"
   ]
  },
  {
   "cell_type": "code",
   "execution_count": 10,
   "metadata": {},
   "outputs": [],
   "source": [
    "test_string = \"here is a random number 1231231234 , here is phone number formatted 123-123-1234\""
   ]
  },
  {
   "cell_type": "code",
   "execution_count": 14,
   "metadata": {},
   "outputs": [
    {
     "output_type": "execute_result",
     "data": {
      "text/plain": [
       "['123-123-1234']"
      ]
     },
     "metadata": {},
     "execution_count": 14
    }
   ],
   "source": [
    "re.findall(pattern,test_string)"
   ]
  },
  {
   "cell_type": "code",
   "execution_count": 15,
   "metadata": {},
   "outputs": [
    {
     "output_type": "execute_result",
     "data": {
      "text/plain": [
       "<re.Match object; span=(68, 80), match='123-123-1234'>"
      ]
     },
     "metadata": {},
     "execution_count": 15
    }
   ],
   "source": [
    "re.search(pattern,test_string)"
   ]
  },
  {
   "cell_type": "code",
   "execution_count": 24,
   "metadata": {},
   "outputs": [],
   "source": [
    "def search(file, pattern= r'\\d{3}-\\d{3}-\\d{4}'):\n",
    "    f = open(file,'r')\n",
    "    text = f.read()\n",
    "    \n",
    "    if re.search(pattern,text):\n",
    "        print(\"patter found {}\".format(file))\n",
    "        return re.search(pattern,text)\n",
    "    else:\n",
    "        return ''"
   ]
  },
  {
   "cell_type": "code",
   "execution_count": 26,
   "metadata": {},
   "outputs": [
    {
     "output_type": "stream",
     "name": "stdout",
     "text": [
      "||--------------------------------------------------------------------------------------||\n\nfolder: c:\\Users\\Aruni Mishra\\python\\github\\Python\\Advanced Python Modules\\subfolder\\extracted_content\n\n\nsub folder: Five\n\n\nsub folder: Four\n\n\nsub folder: One\n\n\nsub folder: Three\n\n\nsub folder: Two\n\n\nfile: Instructions.txt\n||--------------------------------------------------------------------------------------||\n\nfolder: c:\\Users\\Aruni Mishra\\python\\github\\Python\\Advanced Python Modules\\subfolder\\extracted_content\\Five\n\n\nfile: AEITMYIRQLP.txt\nfile: APJKSRITGGX.txt\nfile: AQKATDFGXTS.txt\nfile: ARLKFCWIAJE.txt\nfile: AXJGVPVEFAS.txt\nfile: BNUQEHCFRTG.txt\nfile: BSKJDRNEZQM.txt\nfile: BTYWAHLHKBM.txt\nfile: BUGKBZWRRVI.txt\nfile: BVBURZZCAPR.txt\nfile: CAHBEVSVDDN.txt\nfile: COMGMZBJAYE.txt\nfile: CRFSDGYFSHA.txt\nfile: CSCLFZCDYYC.txt\nfile: CXBVCTRBBIE.txt\nfile: DDLASODUVPX.txt\nfile: DHZBAAYEADM.txt\nfile: DQPZQLBCJYP.txt\nfile: DYOPIIVMZOO.txt\nfile: DZUWWXYIAEL.txt\nfile: EAAOEPSAWMQ.txt\nfile: EIPWXMQZJKU.txt\nfile: ESIZWBHMGDP.txt\nfile: ETCUEXWNBCF.txt\nfile: EYTCGIOYWIW.txt\n||--------------------------------------------------------------------------------------||\n\nfolder: c:\\Users\\Aruni Mishra\\python\\github\\Python\\Advanced Python Modules\\subfolder\\extracted_content\\Four\n\n\nfile: ECIOBYCDVFI.txt\nfile: EMTGPSXQEJX.txt\npatter found c:\\Users\\Aruni Mishra\\python\\github\\Python\\Advanced Python Modules\\subfolder\\extracted_content\\Four\\EMTGPSXQEJX.txt\nfile: EPRNUHRSESC.txt\nfile: ESDIZXHYCVY.txt\nfile: EXVQSVBQQQH.txt\nfile: QCTCKDIBBVG.txt\nfile: QCWCFLKNZMN.txt\nfile: QDDETWBHJYC.txt\nfile: QTDYYIFPHAU.txt\nfile: QVNJULGXNUM.txt\nfile: REAXWSOIQDY.txt\nfile: ROICPTWKXDX.txt\nfile: RSXOTNGKBML.txt\nfile: RXDARIDGKBF.txt\nfile: RYNXFYXMKHG.txt\nfile: TAKNAVDMZKV.txt\nfile: THPNEGKTJWI.txt\nfile: TJFMLJODVAD.txt\nfile: TKCZSFQNJTX.txt\nfile: TWUOYFCCYBQ.txt\nfile: WFSKPTXPFCH.txt\nfile: WHTOHQUWXIN.txt\nfile: WNJISWPEBRS.txt\nfile: WXDJDOGZEHN.txt\nfile: WYDLGSGGXKV.txt\n||--------------------------------------------------------------------------------------||\n\nfolder: c:\\Users\\Aruni Mishra\\python\\github\\Python\\Advanced Python Modules\\subfolder\\extracted_content\\One\n\n\nfile: HDOHZHFSTTK.txt\nfile: HFUTPPAXDIS.txt\nfile: HMNZTLIFGPD.txt\nfile: HRQFTHKVJTL.txt\nfile: HVUTZEVMSBW.txt\nfile: JDLRVFCXYLU.txt\nfile: JEHBLZPUPSP.txt\nfile: JLTXKIGCWDL.txt\nfile: JQUOBKFUACN.txt\nfile: JTHSNBNPQSE.txt\nfile: KCXGNQCZBLO.txt\nfile: KFIUZFERLET.txt\nfile: KMMLGJOWLGI.txt\nfile: KNBSKDREHQU.txt\nfile: KTXDHIOKAUI.txt\nfile: LDGOCUQJNNS.txt\nfile: LFEATJAAYDC.txt\nfile: LHODFIKVTQA.txt\nfile: LIFDHOFKWOI.txt\nfile: LPNDVDXPZIG.txt\nfile: PDJMSMNKIRM.txt\nfile: PHWAVPEKAER.txt\nfile: PLYCGPVEAWO.txt\nfile: PQNVCVJINAR.txt\nfile: PTOBBCJYURJ.txt\n||--------------------------------------------------------------------------------------||\n\nfolder: c:\\Users\\Aruni Mishra\\python\\github\\Python\\Advanced Python Modules\\subfolder\\extracted_content\\Three\n\n\nfile: VAQIJTDOFUJ.txt\nfile: VCFJCGJFBIH.txt\nfile: VSXFSTABZDY.txt\nfile: VVHFVZUNLOO.txt\nfile: VVKGWLRMHLU.txt\nfile: XAJMCPEWFNI.txt\nfile: XFHJOTNPEJG.txt\nfile: XHZPVUQTXIO.txt\nfile: XJCWENFFGHB.txt\nfile: XVMPVSVYKFR.txt\nfile: YCESZHJDBXH.txt\nfile: YDQFMWXOUMW.txt\nfile: YQBIUHSUEVW.txt\nfile: YQRNCMNFFHW.txt\nfile: YYIZGBTQHZP.txt\nfile: ZEZKKRBIZEB.txt\nfile: ZKQJXAYKPVD.txt\nfile: ZOWVXWPOGWP.txt\nfile: ZXEZRQXZNPG.txt\nfile: ZXIBJMPROKW.txt\n||--------------------------------------------------------------------------------------||\n\nfolder: c:\\Users\\Aruni Mishra\\python\\github\\Python\\Advanced Python Modules\\subfolder\\extracted_content\\Two\n\n\nfile: GKQBQRCTNNK.txt\nfile: GMMQQUBMJNR.txt\nfile: GQTJJORZBXY.txt\nfile: GTOTCIWMDBY.txt\nfile: GXYSEPAFRTP.txt\nfile: HARDNJGDRBC.txt\nfile: HEORIXOTANT.txt\nfile: HMUTDOVNYTV.txt\nfile: HMZXPBOPRAE.txt\nfile: HTOHSTYXTCO.txt\nfile: LCJZYDHBFRM.txt\nfile: LSQSTGPIGIY.txt\nfile: LULTNYAQEJG.txt\nfile: LVMBINRBJXL.txt\nfile: LYZEQCVYNEZ.txt\nfile: OHZOUOSFJQC.txt\nfile: OIHMLGMWTHL.txt\nfile: OKWFOOYTXFU.txt\nfile: OMWIMVRCMYM.txt\nfile: OYMAGXAGWHJ.txt\nfile: SIKFPPLCJDN.txt\nfile: SJMJLDGPBSJ.txt\nfile: SOFUJYXTIMK.txt\nfile: SPDZYGDHEWO.txt\nfile: SWOFXREEHWA.txt\n"
     ]
    }
   ],
   "source": [
    "results = []\n",
    "for folder, sub_folders, files in os.walk(os.getcwd()+\"\\\\subfolder\\extracted_content\"):\n",
    "    print(\"||--------------------------------------------------------------------------------------||\\n\")\n",
    "    print(f\"folder: {folder}\")\n",
    "    print(\"\\n\")\n",
    "\n",
    "    for subfolder in sub_folders:\n",
    "        print(f\"sub folder: {subfolder}\")\n",
    "        print(\"\\n\")\n",
    "\n",
    "    for file in files:\n",
    "        print(f\"file: {file}\")\n",
    "        full_path = folder+'\\\\'+file\n",
    "        results.append(search(full_path))"
   ]
  },
  {
   "cell_type": "code",
   "execution_count": 27,
   "metadata": {},
   "outputs": [
    {
     "output_type": "stream",
     "name": "stdout",
     "text": [
      "719-266-2837\n"
     ]
    }
   ],
   "source": [
    "for r in results:\n",
    "    if r != '':\n",
    "        print(r.group())"
   ]
  },
  {
   "cell_type": "code",
   "execution_count": null,
   "metadata": {},
   "outputs": [],
   "source": []
  }
 ]
}